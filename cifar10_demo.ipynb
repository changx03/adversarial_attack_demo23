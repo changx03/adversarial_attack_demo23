{
 "cells": [
  {
   "cell_type": "markdown",
   "id": "defbb3ca",
   "metadata": {},
   "source": [
    "# ResNet CIFAR10 Demo\n",
    "\n",
    "Tested on `Python3.9.17`\n",
    "\n",
    "\n",
    "To install the package:\n",
    "```bash\n",
    "python3.9 -m venv venv\n",
    "source venv/bin/activate  # For Linux only, activate your virtual env accordingly based on your OS\n",
    "pip install --upgrade pip\n",
    "pip install -r requirements.txt\n",
    "```"
   ]
  },
  {
   "cell_type": "code",
   "execution_count": null,
   "id": "828df7b3-7523-41c1-951f-aa880c0435c3",
   "metadata": {},
   "outputs": [],
   "source": [
    "import torch\n",
    "from torch.utils.data import DataLoader\n",
    "import torchvision as tv\n",
    "import torchvision.transforms as T\n",
    "import detectors\n",
    "import numpy as np"
   ]
  },
  {
   "cell_type": "code",
   "execution_count": null,
   "id": "e2d7e33c-d62b-4757-aa54-c985810fe5d1",
   "metadata": {},
   "outputs": [],
   "source": [
    "device = torch.device('cuda:0' if torch.cuda.is_available() else 'cpu')\n",
    "print(device)"
   ]
  },
  {
   "cell_type": "markdown",
   "id": "fc23d07a",
   "metadata": {},
   "source": [
    "The hyperparameters for the pre-trained model can be found here:\n",
    "[https://huggingface.co/edadaltocg/resnet18_cifar10](https://huggingface.co/edadaltocg/resnet18_cifar10)"
   ]
  },
  {
   "cell_type": "code",
   "execution_count": null,
   "id": "f9db740f-adf6-4f45-af49-9fe99c21a530",
   "metadata": {},
   "outputs": [],
   "source": [
    "# Download pre-trained model for ResNet18 trained on CIFAR10:\n",
    "model = detectors.create_model(\"resnet18_cifar10\", pretrained=True)\n",
    "model = model.to(device)  # Move model to GPU\n",
    "\n",
    "# NOTE: Since we load a pre-trained model, we do NOT need define our transformation\n",
    "# # Additional transformations are only applied to training set to avoid overfitting\n",
    "# transform_train = T.Compose([\n",
    "#     T.Pad(4),\n",
    "#     T.RandomCrop(32, fill=128),\n",
    "#     T.RandomHorizontalFlip(),\n",
    "#     T.ToTensor(),\n",
    "#     T.Normalize((0.485, 0.456, 0.406), (0.229, 0.224, 0.225)),\n",
    "# ])\n",
    "# # Only normalize the range (From 0-255 to 0-1)\n",
    "# transform_test = T.Compose([\n",
    "#     T.ToTensor(),\n",
    "#     T.Normalize((0.485, 0.456, 0.406), (0.229, 0.224, 0.225)),\n",
    "# ])\n",
    "\n",
    "transform_train = detectors.create_transform(model, is_training=True)\n",
    "transform_test = detectors.create_transform(model)"
   ]
  },
  {
   "cell_type": "code",
   "execution_count": null,
   "id": "4b7d3c6d-187c-4a1e-90dc-454db849a11f",
   "metadata": {},
   "outputs": [],
   "source": [
    "# Almost identical to our transform functions:\n",
    "print(transform_train)\n",
    "print(transform_test)"
   ]
  },
  {
   "cell_type": "code",
   "execution_count": null,
   "id": "e35472a8-95e1-4ba6-9e93-49eb09690ef0",
   "metadata": {},
   "outputs": [],
   "source": [
    "# Preparing data\n",
    "# Hyperparameters:\n",
    "BATCH_SIZE = 64  # Based on GPU's VRAM\n",
    "NUM_THREADS = 8  # Based on # of CPU cores\n",
    "\n",
    "# NOTE: We use `transform_test` for training set, because the model is pre-trained, we only interested in its accuracy.\n",
    "dataset_train = tv.datasets.CIFAR10('./data', download=True, train=True, transform=transform_test)\n",
    "dataset_test = tv.datasets.CIFAR10('./data', download=True, train=False, transform=transform_test)\n",
    "\n",
    "# NOTE: Evaluation only. Turn shuffle off.\n",
    "dataloader_train = DataLoader(dataset_train, batch_size=BATCH_SIZE, shuffle=False, num_workers=NUM_THREADS)\n",
    "dataloader_test = DataLoader(dataset_test, batch_size=BATCH_SIZE, shuffle=False, num_workers=NUM_THREADS)"
   ]
  },
  {
   "cell_type": "code",
   "execution_count": null,
   "id": "afde27e1-28ec-493a-9d2b-b65cc924aa07",
   "metadata": {},
   "outputs": [],
   "source": [
    "def evaluation(model, dataloader, device):\n",
    "    \"\"\"This function returns the accuracy of a given dataset on a pre-trained model.\"\"\"\n",
    "    correct = 0\n",
    "    total = 0\n",
    "    model.eval()\n",
    "    with torch.no_grad():\n",
    "        for batch in dataloader:\n",
    "            x, y = batch\n",
    "            x = x.to(device)\n",
    "            outputs = model(x)\n",
    "            _, predictions = torch.max(outputs, 1)\n",
    "            predictions = predictions.to('cpu')\n",
    "            total += y.size(0)\n",
    "            correct += (predictions == y).sum().item()\n",
    "    accuracy = correct / total\n",
    "    return accuracy"
   ]
  },
  {
   "cell_type": "code",
   "execution_count": null,
   "id": "3789dc2e-5d25-4b50-adf7-ea2b39973a9c",
   "metadata": {},
   "outputs": [],
   "source": [
    "acc_train = evaluation(model, dataloader_train, device)\n",
    "acc_test = evaluation(model, dataloader_test, device)\n",
    "\n",
    "print(f'Train accuracy: {acc_train * 100:.2f}')\n",
    "print(f'Test accuracy:  {acc_test * 100:.2f}')"
   ]
  },
  {
   "cell_type": "markdown",
   "id": "076d27df-e06b-4f54-bbb6-c2c1f2110a57",
   "metadata": {},
   "source": [
    "## Attack the pre-trained model"
   ]
  },
  {
   "cell_type": "code",
   "execution_count": 22,
   "id": "f7152f6c",
   "metadata": {},
   "outputs": [],
   "source": [
    "from torch.utils.data import TensorDataset\n",
    "\n",
    "from art.estimators.classification import PyTorchClassifier\n",
    "import art.attacks.evasion as evasion\n"
   ]
  },
  {
   "cell_type": "code",
   "execution_count": null,
   "id": "4851fdf4",
   "metadata": {},
   "outputs": [],
   "source": [
    "# Checking the image size\n",
    "(x, y) = next(iter(dataset_test))\n",
    "input_shape = np.array(x.size())\n",
    "print(f'input_shape: {input_shape}')\n",
    "\n",
    "# Check the clip values:\n",
    "global_min = 9999.\n",
    "global_max = 0.\n",
    "for batch in dataloader_train:\n",
    "    x, _ = batch\n",
    "    global_min = min(torch.min(x).item(), global_min)\n",
    "    global_max = max(torch.max(x).item(), global_max)\n",
    "\n",
    "print(f'Min: {global_min}, Max: {global_max}')"
   ]
  },
  {
   "cell_type": "code",
   "execution_count": null,
   "id": "1f379d1b",
   "metadata": {},
   "outputs": [],
   "source": [
    "criterion = torch.nn.CrossEntropyLoss()\n",
    "optimizer = torch.optim.SGD(model.parameters(), lr=0.1, momentum=0.9, weight_decay=0.0005, nesterov=True)\n",
    "loss_fn = torch.nn.CrossEntropyLoss()\n",
    "\n",
    "# Images should be within [0, 1] range, but it is not due to the normalization.\n",
    "classifier = PyTorchClassifier(\n",
    "    model=model,\n",
    "    clip_values=(global_min, global_max), \n",
    "    loss=criterion,\n",
    "    optimizer=optimizer,\n",
    "    input_shape=input_shape,\n",
    "    nb_classes=10,\n",
    ")"
   ]
  },
  {
   "cell_type": "code",
   "execution_count": 29,
   "id": "e90e7e29",
   "metadata": {},
   "outputs": [],
   "source": [
    "attack = evasion.AutoProjectedGradientDescent(estimator=classifier)"
   ]
  },
  {
   "cell_type": "code",
   "execution_count": 30,
   "id": "1645c926",
   "metadata": {},
   "outputs": [
    {
     "name": "stderr",
     "output_type": "stream",
     "text": [
      "AutoPGD - restart:   0%|          | 0/5 [00:00<?, ?it/s]\n",
      "\u001b[A\n",
      "\u001b[A\n",
      "\u001b[A\n",
      "\u001b[A\n",
      "\u001b[A\n",
      "\u001b[A\n",
      "\u001b[A\n",
      "\u001b[A\n",
      "\u001b[A\n",
      "\u001b[A\n",
      "\u001b[A\n",
      "\u001b[A\n",
      "\u001b[A\n",
      "\u001b[A\n",
      "\u001b[A\n",
      "\u001b[A\n",
      "\u001b[A\n",
      "\u001b[A\n",
      "\u001b[A\n",
      "\u001b[A\n",
      "\u001b[A\n",
      "\u001b[A\n",
      "\u001b[A\n",
      "\u001b[A\n",
      "\u001b[A\n",
      "\u001b[A\n",
      "\u001b[A\n",
      "\u001b[A\n",
      "\u001b[A\n",
      "\u001b[A\n",
      "\u001b[A\n",
      "\u001b[A\n",
      "\u001b[A\n",
      "\u001b[A\n",
      "\u001b[A\n",
      "\u001b[A\n",
      "\u001b[A\n",
      "\u001b[A\n",
      "\u001b[A\n",
      "\u001b[A\n",
      "\u001b[A\n",
      "\u001b[A\n",
      "\u001b[A\n",
      "AutoPGD - restart:  20%|██        | 1/5 [00:04<00:17,  4.43s/it]\n"
     ]
    }
   ],
   "source": [
    "# Only test with one batch\n",
    "batch = next(iter(dataloader_test))\n",
    "X, y = batch\n",
    "X_advx = attack.generate(x=X.numpy())"
   ]
  },
  {
   "cell_type": "code",
   "execution_count": 31,
   "id": "47538814",
   "metadata": {},
   "outputs": [
    {
     "name": "stdout",
     "output_type": "stream",
     "text": [
      "Adversarial examples accuracy: 3.12\n"
     ]
    }
   ],
   "source": [
    "dataset_advx = TensorDataset(torch.Tensor(X_advx), y)\n",
    "dataloader_advx = DataLoader(dataset_advx, batch_size=BATCH_SIZE, shuffle=False, num_workers=NUM_THREADS)\n",
    "acc_advx = evaluation(model, dataloader_advx, device)\n",
    "\n",
    "print(f'Adversarial examples accuracy: {acc_advx * 100:.2f}')"
   ]
  },
  {
   "cell_type": "code",
   "execution_count": null,
   "id": "0857b1c2",
   "metadata": {},
   "outputs": [],
   "source": []
  }
 ],
 "metadata": {
  "kernelspec": {
   "display_name": "Python 3 (ipykernel)",
   "language": "python",
   "name": "python3"
  },
  "language_info": {
   "codemirror_mode": {
    "name": "ipython",
    "version": 3
   },
   "file_extension": ".py",
   "mimetype": "text/x-python",
   "name": "python",
   "nbconvert_exporter": "python",
   "pygments_lexer": "ipython3",
   "version": "3.9.17"
  }
 },
 "nbformat": 4,
 "nbformat_minor": 5
}
